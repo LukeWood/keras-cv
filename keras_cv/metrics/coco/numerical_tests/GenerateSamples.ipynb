{
 "cells": [
  {
   "cell_type": "markdown",
   "metadata": {
    "id": "WUUY3nfRX7VF"
   },
   "source": [
    "# Setup"
   ]
  },
  {
   "cell_type": "code",
   "execution_count": 1,
   "metadata": {
    "colab": {
     "base_uri": "https://localhost:8080/"
    },
    "id": "n69M1y5bTDa_",
    "outputId": "cfdb76d7-ff82-4022-cf3b-7a4e7695c6ee"
   },
   "outputs": [
    {
     "name": "stdout",
     "output_type": "stream",
     "text": [
      "\u001b[33mDEPRECATION: Configuring installation scheme with distutils config files is deprecated and will no longer work in the near future. If you are using a Homebrew or Linuxbrew Python, please see discussion at https://github.com/Homebrew/homebrew-core/issues/76621\u001b[0m\u001b[33m\n",
      "\u001b[0mCollecting git+https://github.com/cocodataset/cocoapi.git#subdirectory=PythonAPI\n",
      "  Cloning https://github.com/cocodataset/cocoapi.git to /private/var/folders/03/4dl3rtgd0njccwgh38g1glr400fbw2/T/pip-req-build-wzljgb5v\n",
      "  Running command git clone --filter=blob:none --quiet https://github.com/cocodataset/cocoapi.git /private/var/folders/03/4dl3rtgd0njccwgh38g1glr400fbw2/T/pip-req-build-wzljgb5v\n",
      "  Resolved https://github.com/cocodataset/cocoapi.git to commit 8c9bcc3cf640524c4c20a9c40e89cb6a2f2fa0e9\n",
      "  Preparing metadata (setup.py) ... \u001b[?25ldone\n",
      "\u001b[?25hRequirement already satisfied: setuptools>=18.0 in /Users/lukewood/Library/Python/3.9/lib/python/site-packages (from pycocotools==2.0) (60.10.0)\n",
      "Requirement already satisfied: cython>=0.27.3 in /usr/local/lib/python3.9/site-packages (from pycocotools==2.0) (0.29.30)\n",
      "Requirement already satisfied: matplotlib>=2.1.0 in /Users/lukewood/Library/Python/3.9/lib/python/site-packages (from pycocotools==2.0) (3.5.1)\n",
      "Requirement already satisfied: python-dateutil>=2.7 in /usr/local/lib/python3.9/site-packages (from matplotlib>=2.1.0->pycocotools==2.0) (2.8.2)\n",
      "Requirement already satisfied: numpy>=1.17 in /Users/lukewood/Library/Python/3.9/lib/python/site-packages (from matplotlib>=2.1.0->pycocotools==2.0) (1.21.6)\n",
      "Requirement already satisfied: pyparsing>=2.2.1 in /usr/local/lib/python3.9/site-packages (from matplotlib>=2.1.0->pycocotools==2.0) (3.0.6)\n",
      "Requirement already satisfied: pillow>=6.2.0 in /usr/local/lib/python3.9/site-packages (from matplotlib>=2.1.0->pycocotools==2.0) (8.4.0)\n",
      "Requirement already satisfied: packaging>=20.0 in /usr/local/lib/python3.9/site-packages (from matplotlib>=2.1.0->pycocotools==2.0) (21.3)\n",
      "Requirement already satisfied: cycler>=0.10 in /Users/lukewood/Library/Python/3.9/lib/python/site-packages (from matplotlib>=2.1.0->pycocotools==2.0) (0.11.0)\n",
      "Requirement already satisfied: kiwisolver>=1.0.1 in /usr/local/lib/python3.9/site-packages (from matplotlib>=2.1.0->pycocotools==2.0) (1.3.2)\n",
      "Requirement already satisfied: fonttools>=4.22.0 in /usr/local/lib/python3.9/site-packages (from matplotlib>=2.1.0->pycocotools==2.0) (4.28.5)\n",
      "Requirement already satisfied: six>=1.5 in /usr/local/lib/python3.9/site-packages (from python-dateutil>=2.7->matplotlib>=2.1.0->pycocotools==2.0) (1.15.0)\n",
      "Building wheels for collected packages: pycocotools\n",
      "  Building wheel for pycocotools (setup.py) ... \u001b[?25l|^C\n",
      "\u001b[?25canceled\n",
      "\u001b[31mERROR: Operation cancelled by user\u001b[0m\u001b[31m\n",
      "\u001b[0m"
     ]
    }
   ],
   "source": [
    "!pip install 'git+https://github.com/cocodataset/cocoapi.git#subdirectory=PythonAPI'"
   ]
  },
  {
   "cell_type": "markdown",
   "metadata": {
    "id": "MimODgLKTHsr"
   },
   "source": [
    "# Load Ground Truths"
   ]
  },
  {
   "cell_type": "code",
   "execution_count": 11,
   "metadata": {
    "colab": {
     "base_uri": "https://localhost:8080/"
    },
    "id": "_-3H1wHxOgK1",
    "outputId": "72857e3e-4a34-47fc-cf71-a3f217c0674f"
   },
   "outputs": [
    {
     "name": "stdout",
     "output_type": "stream",
     "text": [
      "--2022-11-02 11:52:04--  http://images.cocodataset.org/annotations/annotations_trainval2017.zip\n",
      "Resolving images.cocodataset.org (images.cocodataset.org)... 52.216.38.1\n",
      "Connecting to images.cocodataset.org (images.cocodataset.org)|52.216.38.1|:80... connected.\n",
      "HTTP request sent, awaiting response... 200 OK\n",
      "Length: 252907541 (241M) [application/zip]\n",
      "Saving to: ‘annotations_trainval2017.zip.1’\n",
      "\n",
      "annotations_trainva 100%[===================>] 241.19M  33.3MB/s    in 7.7s    \n",
      "\n",
      "2022-11-02 11:52:12 (31.1 MB/s) - ‘annotations_trainval2017.zip.1’ saved [252907541/252907541]\n",
      "\n",
      "Archive:  annotations_trainval2017.zip\n",
      "replace annotations/instances_train2017.json? [y]es, [n]o, [A]ll, [N]one, [r]ename: ^C\n"
     ]
    }
   ],
   "source": [
    "!wget http://images.cocodataset.org/annotations/annotations_trainval2017.zip\n",
    "!unzip annotations_trainval2017.zip"
   ]
  },
  {
   "cell_type": "code",
   "execution_count": null,
   "metadata": {},
   "outputs": [],
   "source": []
  },
  {
   "cell_type": "code",
   "execution_count": 24,
   "metadata": {
    "id": "sZUNps8-QU28"
   },
   "outputs": [],
   "source": [
    "import json\n",
    "\n",
    "with open(\"./annotations/instances_val2017.json\", \"r\") as f:\n",
    "    ground_truths = json.load(f)"
   ]
  },
  {
   "cell_type": "code",
   "execution_count": 35,
   "metadata": {
    "id": "D4i9jPDkYj8r"
   },
   "outputs": [],
   "source": [
    "img_ids = [gt[\"image_id\"] for gt in ground_truths[\"annotations\"]][:50]"
   ]
  },
  {
   "cell_type": "code",
   "execution_count": 36,
   "metadata": {
    "id": "nsRkZ1gsW8Nw"
   },
   "outputs": [],
   "source": [
    "ground_truths[\"annotations\"] = [\n",
    "    gt for gt in ground_truths[\"annotations\"] if gt[\"image_id\"] in img_ids\n",
    "]"
   ]
  },
  {
   "cell_type": "code",
   "execution_count": 37,
   "metadata": {
    "id": "PUf0_UjtXGXz"
   },
   "outputs": [],
   "source": [
    "with open(\"mutated_ground_truths.json\", \"w\") as f:\n",
    "    json.dump(ground_truths, f)"
   ]
  },
  {
   "cell_type": "code",
   "execution_count": 38,
   "metadata": {},
   "outputs": [],
   "source": [
    "# high density version is 0.95, low density 0.0\n",
    "minscore = 0.9995"
   ]
  },
  {
   "cell_type": "code",
   "execution_count": 39,
   "metadata": {
    "id": "438lQrfYVo93"
   },
   "outputs": [],
   "source": [
    "import random\n",
    "\n",
    "\n",
    "def mutate_bounding_box(bounding_box):\n",
    "    def shift(x, xw):\n",
    "        return xw * random.uniform(-1, 1) + x\n",
    "\n",
    "    return [\n",
    "        shift(bounding_box[0], bounding_box[2] / 10),\n",
    "        shift(bounding_box[1], bounding_box[3] / 10),\n",
    "        random.uniform(0.9, 1.1) * bounding_box[2],\n",
    "        random.uniform(0.9, 1.1) * bounding_box[3],\n",
    "    ]\n",
    "\n",
    "\n",
    "results = []\n",
    "for gt in [gt for gt in ground_truths[\"annotations\"] if gt[\"image_id\"] in img_ids]:\n",
    "    result = {\n",
    "        \"image_id\": gt[\"image_id\"],\n",
    "        \"area\": gt[\"area\"],\n",
    "        \"bbox\": mutate_bounding_box(gt[\"bbox\"]),\n",
    "        \"id\": gt[\"id\"],\n",
    "        \"category_id\": gt[\"category_id\"],\n",
    "        \"score\": random.uniform(minscore, 1),\n",
    "    }\n",
    "    results.append(result)\n",
    "\n",
    "with open(\"coco_results.json\", \"w\") as f:\n",
    "    json.dump(results, f)"
   ]
  },
  {
   "cell_type": "code",
   "execution_count": 40,
   "metadata": {
    "colab": {
     "base_uri": "https://localhost:8080/"
    },
    "id": "pRnBL4lCOkey",
    "outputId": "4b9a49d1-9acd-4a1d-84b1-8f07f6efc7d4"
   },
   "outputs": [
    {
     "name": "stdout",
     "output_type": "stream",
     "text": [
      "loading annotations into memory...\n",
      "Done (t=0.03s)\n",
      "creating index...\n",
      "index created!\n",
      "Loading and preparing results...\n",
      "DONE (t=0.00s)\n",
      "creating index...\n",
      "index created!\n",
      "Running per image evaluation...\n",
      "Evaluate annotation type *bbox*\n",
      "DONE (t=3.84s).\n",
      "Accumulating evaluation results...\n",
      "DONE (t=0.99s).\n",
      " Average Precision  (AP) @[ IoU=0.50:0.95 | area=   all | maxDets=100 ] = 0.598\n",
      " Average Precision  (AP) @[ IoU=0.50      | area=   all | maxDets=100 ] = 1.000\n",
      " Average Precision  (AP) @[ IoU=0.75      | area=   all | maxDets=100 ] = 0.723\n",
      " Average Precision  (AP) @[ IoU=0.50:0.95 | area= small | maxDets=100 ] = 0.613\n",
      " Average Precision  (AP) @[ IoU=0.50:0.95 | area=medium | maxDets=100 ] = 0.605\n",
      " Average Precision  (AP) @[ IoU=0.50:0.95 | area= large | maxDets=100 ] = 0.583\n",
      " Average Recall     (AR) @[ IoU=0.50:0.95 | area=   all | maxDets=  1 ] = 0.438\n",
      " Average Recall     (AR) @[ IoU=0.50:0.95 | area=   all | maxDets= 10 ] = 0.620\n",
      " Average Recall     (AR) @[ IoU=0.50:0.95 | area=   all | maxDets=100 ] = 0.620\n",
      " Average Recall     (AR) @[ IoU=0.50:0.95 | area= small | maxDets=100 ] = 0.630\n",
      " Average Recall     (AR) @[ IoU=0.50:0.95 | area=medium | maxDets=100 ] = 0.617\n",
      " Average Recall     (AR) @[ IoU=0.50:0.95 | area= large | maxDets=100 ] = 0.605\n"
     ]
    }
   ],
   "source": [
    "from pycocotools.coco import COCO\n",
    "from pycocotools.cocoeval import COCOeval\n",
    "\n",
    "with open(\"coco_results.json\", \"r\") as f:\n",
    "    results = json.load(f)\n",
    "coco = COCO(\"./mutated_ground_truths.json\")\n",
    "ret = {}\n",
    "\n",
    "cocoDt = coco.loadRes(results)\n",
    "cocoEval = COCOeval(coco, cocoDt, 'bbox')\n",
    "cocoEval.evaluate()\n",
    "cocoEval.accumulate()\n",
    "cocoEval.summarize()"
   ]
  },
  {
   "cell_type": "markdown",
   "metadata": {
    "id": "_8rKJCZFYwqE"
   },
   "source": [
    "# Creating y_true, y_pred"
   ]
  },
  {
   "cell_type": "code",
   "execution_count": 41,
   "metadata": {
    "colab": {
     "base_uri": "https://localhost:8080/"
    },
    "id": "b1M8QjMJYyXD",
    "outputId": "69187c86-1429-4764-a726-fa387a2acdf4"
   },
   "outputs": [
    {
     "name": "stdout",
     "output_type": "stream",
     "text": [
      "(10, 25, 5)\n"
     ]
    }
   ],
   "source": [
    "import numpy as np\n",
    "from collections import defaultdict\n",
    "\n",
    "num_imgs = len(img_ids)\n",
    "\n",
    "groups = defaultdict(list)\n",
    "\n",
    "for annotation in ground_truths[\"annotations\"]:\n",
    "    img_id = annotation[\"image_id\"]\n",
    "    bounding_box = annotation[\"bbox\"]\n",
    "    bounding_box = [x for x in bounding_box] + [int(annotation[\"category_id\"])]\n",
    "    groups[img_id].append(bounding_box)\n",
    "\n",
    "imgs = sorted(groups.keys())\n",
    "\n",
    "result = []\n",
    "for img in imgs:\n",
    "    bounding_boxes = groups[img]\n",
    "    bounding_boxes = np.array(bounding_boxes)\n",
    "    result.append(bounding_boxes)\n",
    "\n",
    "m = max([r.shape[0] for r in result])\n",
    "\n",
    "\n",
    "def to_shape(a, shape):\n",
    "    y_, x_ = shape\n",
    "    y, x = a.shape\n",
    "    y_pad = y_ - y\n",
    "    x_pad = x_ - x\n",
    "    return np.pad(a, ((0, y_pad), (0, x_pad)), mode=\"constant\", constant_values=-1)\n",
    "\n",
    "\n",
    "result = [to_shape(r, (m, 5)) for r in result]\n",
    "y_true = np.array(result).astype(float)\n",
    "\n",
    "print(y_true.shape)"
   ]
  },
  {
   "cell_type": "code",
   "execution_count": 42,
   "metadata": {
    "colab": {
     "base_uri": "https://localhost:8080/"
    },
    "id": "zt5ENbGKbi5e",
    "outputId": "1eda5c37-14ef-4d0c-92e0-47eeb624331b"
   },
   "outputs": [
    {
     "name": "stdout",
     "output_type": "stream",
     "text": [
      "[[[ 2.7210e+02  2.0023e+02  1.5197e+02  2.7977e+02  1.8000e+01]\n",
      "  [ 1.8123e+02  8.6280e+01  2.7440e+01  7.3530e+01  4.4000e+01]\n",
      "  [ 1.7474e+02  0.0000e+00  2.6104e+02  2.2079e+02  7.0000e+01]\n",
      "  ...\n",
      "  [-1.0000e+00 -1.0000e+00 -1.0000e+00 -1.0000e+00 -1.0000e+00]\n",
      "  [-1.0000e+00 -1.0000e+00 -1.0000e+00 -1.0000e+00 -1.0000e+00]\n",
      "  [-1.0000e+00 -1.0000e+00 -1.0000e+00 -1.0000e+00 -1.0000e+00]]\n",
      "\n",
      " [[ 1.9797e+02  1.1722e+02  1.7045e+02  2.2207e+02  1.8000e+01]\n",
      "  [ 5.8450e+01  8.1690e+01  1.3153e+02  1.2590e+02  6.4000e+01]\n",
      "  [ 9.2900e+00  1.6000e+02  4.6658e+02  3.1484e+02  3.0000e+00]\n",
      "  ...\n",
      "  [-1.0000e+00 -1.0000e+00 -1.0000e+00 -1.0000e+00 -1.0000e+00]\n",
      "  [-1.0000e+00 -1.0000e+00 -1.0000e+00 -1.0000e+00 -1.0000e+00]\n",
      "  [-1.0000e+00 -1.0000e+00 -1.0000e+00 -1.0000e+00 -1.0000e+00]]\n",
      "\n",
      " [[ 4.7307e+02  3.9593e+02  3.8650e+01  2.8670e+01  1.8000e+01]\n",
      "  [ 2.0401e+02  2.3508e+02  6.0840e+01  1.7736e+02  1.0000e+00]\n",
      "  [ 4.3000e-01  4.9979e+02  3.3979e+02  1.0645e+02  1.5000e+01]\n",
      "  ...\n",
      "  [-1.0000e+00 -1.0000e+00 -1.0000e+00 -1.0000e+00 -1.0000e+00]\n",
      "  [-1.0000e+00 -1.0000e+00 -1.0000e+00 -1.0000e+00 -1.0000e+00]\n",
      "  [-1.0000e+00 -1.0000e+00 -1.0000e+00 -1.0000e+00 -1.0000e+00]]\n",
      "\n",
      " ...\n",
      "\n",
      " [[ 1.1271e+02  1.5482e+02  3.6729e+02  4.7935e+02  1.8000e+01]\n",
      "  [-1.0000e+00 -1.0000e+00 -1.0000e+00 -1.0000e+00 -1.0000e+00]\n",
      "  [-1.0000e+00 -1.0000e+00 -1.0000e+00 -1.0000e+00 -1.0000e+00]\n",
      "  ...\n",
      "  [-1.0000e+00 -1.0000e+00 -1.0000e+00 -1.0000e+00 -1.0000e+00]\n",
      "  [-1.0000e+00 -1.0000e+00 -1.0000e+00 -1.0000e+00 -1.0000e+00]\n",
      "  [-1.0000e+00 -1.0000e+00 -1.0000e+00 -1.0000e+00 -1.0000e+00]]\n",
      "\n",
      " [[ 4.2758e+02  7.7870e+01  1.8888e+02  2.8591e+02  1.8000e+01]\n",
      "  [ 4.0399e+02  3.6290e+01  5.9210e+01  2.7506e+02  1.0000e+00]\n",
      "  [ 2.6073e+02  9.6000e-01  1.5376e+02  3.3522e+02  1.0000e+00]\n",
      "  ...\n",
      "  [-1.0000e+00 -1.0000e+00 -1.0000e+00 -1.0000e+00 -1.0000e+00]\n",
      "  [-1.0000e+00 -1.0000e+00 -1.0000e+00 -1.0000e+00 -1.0000e+00]\n",
      "  [-1.0000e+00 -1.0000e+00 -1.0000e+00 -1.0000e+00 -1.0000e+00]]\n",
      "\n",
      " [[ 2.0061e+02  8.9650e+01  4.0022e+02  2.5102e+02  1.8000e+01]\n",
      "  [ 9.4780e+01  9.5000e-01  2.4066e+02  2.1101e+02  1.0000e+00]\n",
      "  [-1.0000e+00 -1.0000e+00 -1.0000e+00 -1.0000e+00 -1.0000e+00]\n",
      "  ...\n",
      "  [-1.0000e+00 -1.0000e+00 -1.0000e+00 -1.0000e+00 -1.0000e+00]\n",
      "  [-1.0000e+00 -1.0000e+00 -1.0000e+00 -1.0000e+00 -1.0000e+00]\n",
      "  [-1.0000e+00 -1.0000e+00 -1.0000e+00 -1.0000e+00 -1.0000e+00]]]\n"
     ]
    }
   ],
   "source": [
    "print(y_true)"
   ]
  },
  {
   "cell_type": "code",
   "execution_count": 43,
   "metadata": {
    "colab": {
     "base_uri": "https://localhost:8080/"
    },
    "id": "R3o_ecJab2QC",
    "outputId": "7d2d4633-d5db-481f-d52c-f2bd3cec5b2c"
   },
   "outputs": [
    {
     "name": "stdout",
     "output_type": "stream",
     "text": [
      "(10, 25, 6)\n"
     ]
    }
   ],
   "source": [
    "import numpy as np\n",
    "from collections import defaultdict\n",
    "\n",
    "num_imgs = len(img_ids)\n",
    "\n",
    "groups = defaultdict(list)\n",
    "\n",
    "for annotation in results:\n",
    "    img_id = annotation[\"image_id\"]\n",
    "    bounding_box = annotation[\"bbox\"]\n",
    "    bounding_box = (\n",
    "        [x for x in bounding_box]\n",
    "        + [int(annotation[\"category_id\"])]\n",
    "        + [annotation[\"score\"]]\n",
    "    )\n",
    "    groups[img_id].append(bounding_box)\n",
    "\n",
    "imgs = sorted(groups.keys())\n",
    "\n",
    "result = []\n",
    "for img in imgs:\n",
    "    bounding_boxes = groups[img]\n",
    "    bounding_boxes = np.array(bounding_boxes)\n",
    "    result.append(bounding_boxes)\n",
    "\n",
    "m = max([r.shape[0] for r in result])\n",
    "\n",
    "\n",
    "def to_shape(a, shape):\n",
    "    y_, x_ = shape\n",
    "    y, x = a.shape\n",
    "    y_pad = y_ - y\n",
    "    x_pad = x_ - x\n",
    "    return np.pad(a, ((0, y_pad), (0, x_pad)), mode=\"constant\", constant_values=-1)\n",
    "\n",
    "\n",
    "result = [to_shape(r, (m, 6)) for r in result]\n",
    "y_pred = np.array(result)\n",
    "\n",
    "print(y_pred.shape)"
   ]
  },
  {
   "cell_type": "code",
   "execution_count": null,
   "metadata": {
    "colab": {
     "base_uri": "https://localhost:8080/"
    },
    "id": "8JPT8ufgb93o",
    "outputId": "beb2ad3d-ce72-4c6f-e54f-0ccc3f1e091a"
   },
   "outputs": [],
   "source": [
    "print(y_pred)"
   ]
  },
  {
   "cell_type": "code",
   "execution_count": null,
   "metadata": {
    "id": "O9Sk_LOl2XsR"
   },
   "outputs": [],
   "source": [
    "outfile = \"high_density_confidence.npz\"\n",
    "np.savez(outfile, y_true, y_pred)"
   ]
  },
  {
   "cell_type": "code",
   "execution_count": null,
   "metadata": {},
   "outputs": [],
   "source": []
  }
 ],
 "metadata": {
  "accelerator": "GPU",
  "colab": {
   "collapsed_sections": [],
   "name": "GenerateSamples.ipynb",
   "provenance": [],
   "toc_visible": true
  },
  "kernelspec": {
   "display_name": "Python 3 (ipykernel)",
   "language": "python",
   "name": "python3"
  },
  "language_info": {
   "codemirror_mode": {
    "name": "ipython",
    "version": 3
   },
   "file_extension": ".py",
   "mimetype": "text/x-python",
   "name": "python",
   "nbconvert_exporter": "python",
   "pygments_lexer": "ipython3",
   "version": "3.9.13"
  }
 },
 "nbformat": 4,
 "nbformat_minor": 1
}
