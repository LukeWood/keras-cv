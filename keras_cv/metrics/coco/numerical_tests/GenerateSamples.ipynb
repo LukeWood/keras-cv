{
 "cells": [
  {
   "cell_type": "markdown",
   "metadata": {
    "id": "WUUY3nfRX7VF"
   },
   "source": [
    "# Setup"
   ]
  },
  {
   "cell_type": "code",
   "execution_count": 1,
   "metadata": {
    "colab": {
     "base_uri": "https://localhost:8080/"
    },
    "id": "n69M1y5bTDa_",
    "outputId": "cfdb76d7-ff82-4022-cf3b-7a4e7695c6ee"
   },
   "outputs": [
    {
     "name": "stdout",
     "output_type": "stream",
     "text": [
      "Collecting git+https://github.com/cocodataset/cocoapi.git#subdirectory=PythonAPI\n",
      "  Cloning https://github.com/cocodataset/cocoapi.git to /tmp/pip-req-build-v63g3kxy\n",
      "  Running command git clone -q https://github.com/cocodataset/cocoapi.git /tmp/pip-req-build-v63g3kxy\n",
      "Requirement already satisfied: setuptools>=18.0 in /usr/local/lib/python3.7/dist-packages (from pycocotools==2.0) (57.4.0)\n",
      "Requirement already satisfied: cython>=0.27.3 in /usr/local/lib/python3.7/dist-packages (from pycocotools==2.0) (0.29.24)\n",
      "Requirement already satisfied: matplotlib>=2.1.0 in /usr/local/lib/python3.7/dist-packages (from pycocotools==2.0) (3.2.2)\n",
      "Requirement already satisfied: pyparsing!=2.0.4,!=2.1.2,!=2.1.6,>=2.0.1 in /usr/local/lib/python3.7/dist-packages (from matplotlib>=2.1.0->pycocotools==2.0) (3.0.6)\n",
      "Requirement already satisfied: python-dateutil>=2.1 in /usr/local/lib/python3.7/dist-packages (from matplotlib>=2.1.0->pycocotools==2.0) (2.8.2)\n",
      "Requirement already satisfied: numpy>=1.11 in /usr/local/lib/python3.7/dist-packages (from matplotlib>=2.1.0->pycocotools==2.0) (1.19.5)\n",
      "Requirement already satisfied: cycler>=0.10 in /usr/local/lib/python3.7/dist-packages (from matplotlib>=2.1.0->pycocotools==2.0) (0.11.0)\n",
      "Requirement already satisfied: kiwisolver>=1.0.1 in /usr/local/lib/python3.7/dist-packages (from matplotlib>=2.1.0->pycocotools==2.0) (1.3.2)\n",
      "Requirement already satisfied: six>=1.5 in /usr/local/lib/python3.7/dist-packages (from python-dateutil>=2.1->matplotlib>=2.1.0->pycocotools==2.0) (1.15.0)\n",
      "Building wheels for collected packages: pycocotools\n",
      "  Building wheel for pycocotools (setup.py) ... \u001b[?25l\u001b[?25hdone\n",
      "  Created wheel for pycocotools: filename=pycocotools-2.0-cp37-cp37m-linux_x86_64.whl size=263921 sha256=074b4c6db75f73953a705eab5e2ddcd2bc50f14a1baa288a0ffe80f6aba91f0a\n",
      "  Stored in directory: /tmp/pip-ephem-wheel-cache-_88ll_l6/wheels/e2/6b/1d/344ac773c7495ea0b85eb228bc66daec7400a143a92d36b7b1\n",
      "Successfully built pycocotools\n",
      "Installing collected packages: pycocotools\n",
      "  Attempting uninstall: pycocotools\n",
      "    Found existing installation: pycocotools 2.0.3\n",
      "    Uninstalling pycocotools-2.0.3:\n",
      "      Successfully uninstalled pycocotools-2.0.3\n",
      "Successfully installed pycocotools-2.0\n"
     ]
    }
   ],
   "source": [
    "!pip install 'git+https://github.com/cocodataset/cocoapi.git#subdirectory=PythonAPI'"
   ]
  },
  {
   "cell_type": "markdown",
   "metadata": {
    "id": "MimODgLKTHsr"
   },
   "source": [
    "# Load Ground Truths"
   ]
  },
  {
   "cell_type": "code",
   "execution_count": 1,
   "metadata": {
    "colab": {
     "base_uri": "https://localhost:8080/"
    },
    "id": "_-3H1wHxOgK1",
    "outputId": "72857e3e-4a34-47fc-cf71-a3f217c0674f"
   },
   "outputs": [
    {
     "name": "stdout",
     "output_type": "stream",
     "text": [
      "--2022-11-02 11:45:38--  http://images.cocodataset.org/annotations/annotations_trainval2017.zip\n",
      "Resolving images.cocodataset.org (images.cocodataset.org)... 52.217.205.113\n",
      "Connecting to images.cocodataset.org (images.cocodataset.org)|52.217.205.113|:80... connected.\n",
      "HTTP request sent, awaiting response... 200 OK\n",
      "Length: 252907541 (241M) [application/zip]\n",
      "Saving to: ‘annotations_trainval2017.zip’\n",
      "\n",
      "annotations_trainva 100%[===================>] 241.19M  34.1MB/s    in 7.7s    \n",
      "\n",
      "2022-11-02 11:45:46 (31.3 MB/s) - ‘annotations_trainval2017.zip’ saved [252907541/252907541]\n",
      "\n",
      "Archive:  annotations_trainval2017.zip\n",
      "  inflating: annotations/instances_train2017.json  \n",
      "  inflating: annotations/instances_val2017.json  \n",
      "  inflating: annotations/captions_train2017.json  \n",
      "  inflating: annotations/captions_val2017.json  \n",
      "  inflating: annotations/person_keypoints_train2017.json  \n",
      "  inflating: annotations/person_keypoints_val2017.json  \n"
     ]
    }
   ],
   "source": [
    "!wget http://images.cocodataset.org/annotations/annotations_trainval2017.zip\n",
    "!unzip annotations_trainval2017.zip"
   ]
  },
  {
   "cell_type": "code",
   "execution_count": 9,
   "metadata": {
    "id": "sZUNps8-QU28"
   },
   "outputs": [],
   "source": [
    "import json\n",
    "\n",
    "with open(\"./annotations/instances_val2017.json\", \"r\") as f:\n",
    "    ground_truths = json.load(f)"
   ]
  },
  {
   "cell_type": "code",
   "execution_count": 10,
   "metadata": {
    "id": "D4i9jPDkYj8r"
   },
   "outputs": [],
   "source": [
    "img_ids = [gt[\"image_id\"] for gt in ground_truths[\"annotations\"]][:10]"
   ]
  },
  {
   "cell_type": "code",
   "execution_count": 11,
   "metadata": {
    "id": "nsRkZ1gsW8Nw"
   },
   "outputs": [],
   "source": [
    "ground_truths[\"annotations\"] = [\n",
    "    gt for gt in ground_truths[\"annotations\"] if gt[\"image_id\"] in img_ids\n",
    "]"
   ]
  },
  {
   "cell_type": "code",
   "execution_count": 12,
   "metadata": {
    "id": "PUf0_UjtXGXz"
   },
   "outputs": [],
   "source": [
    "with open(\"mutated_ground_truths.json\", \"w\") as f:\n",
    "    json.dump(ground_truths, f)"
   ]
  },
  {
   "cell_type": "code",
   "execution_count": 13,
   "metadata": {},
   "outputs": [],
   "source": [
    "# high density version is 0.95, low density 0.0\n",
    "minscore = 0.95"
   ]
  },
  {
   "cell_type": "code",
   "execution_count": 21,
   "metadata": {
    "id": "438lQrfYVo93"
   },
   "outputs": [],
   "source": [
    "import random\n",
    "\n",
    "\n",
    "def mutate_bounding_box(bounding_box):\n",
    "    def shift(x, xw):\n",
    "        return xw * random.uniform(-1, 1) + x\n",
    "\n",
    "    return [\n",
    "        shift(bounding_box[0], bounding_box[2] / 10),\n",
    "        shift(bounding_box[1], bounding_box[3] / 10),\n",
    "        random.uniform(0.9, 1.1) * bounding_box[2],\n",
    "        random.uniform(0.9, 1.1) * bounding_box[3],\n",
    "    ]\n",
    "\n",
    "\n",
    "results = []\n",
    "for gt in [gt for gt in ground_truths[\"annotations\"] if gt[\"image_id\"] in img_ids]:\n",
    "    result = {\n",
    "        \"image_id\": gt[\"image_id\"],\n",
    "        \"area\": gt[\"area\"],\n",
    "        \"bbox\": mutate_bounding_box(gt[\"bbox\"]),\n",
    "        \"id\": gt[\"id\"],\n",
    "        \"category_id\": gt[\"category_id\"],\n",
    "        \"score\": random.uniform(minscore, 1),\n",
    "    }\n",
    "    results.append(result)\n",
    "\n",
    "with open(\"coco_results.json\", \"w\") as f:\n",
    "    json.dump(results, f)"
   ]
  },
  {
   "cell_type": "code",
   "execution_count": 22,
   "metadata": {
    "colab": {
     "base_uri": "https://localhost:8080/"
    },
    "id": "pRnBL4lCOkey",
    "outputId": "4b9a49d1-9acd-4a1d-84b1-8f07f6efc7d4"
   },
   "outputs": [
    {
     "name": "stdout",
     "output_type": "stream",
     "text": [
      "loading annotations into memory...\n",
      "Done (t=0.02s)\n",
      "creating index...\n",
      "index created!\n",
      "Loading and preparing results...\n",
      "DONE (t=0.00s)\n",
      "creating index...\n",
      "index created!\n",
      "Running per image evaluation...\n",
      "Evaluate annotation type *bbox*\n",
      "DONE (t=4.38s).\n",
      "Accumulating evaluation results...\n",
      "DONE (t=1.00s).\n",
      " Average Precision  (AP) @[ IoU=0.50:0.95 | area=   all | maxDets=100 ] = 0.619\n",
      " Average Precision  (AP) @[ IoU=0.50      | area=   all | maxDets=100 ] = 1.000\n",
      " Average Precision  (AP) @[ IoU=0.75      | area=   all | maxDets=100 ] = 0.700\n",
      " Average Precision  (AP) @[ IoU=0.50:0.95 | area= small | maxDets=100 ] = 0.628\n",
      " Average Precision  (AP) @[ IoU=0.50:0.95 | area=medium | maxDets=100 ] = 0.634\n",
      " Average Precision  (AP) @[ IoU=0.50:0.95 | area= large | maxDets=100 ] = 0.609\n",
      " Average Recall     (AR) @[ IoU=0.50:0.95 | area=   all | maxDets=  1 ] = 0.463\n",
      " Average Recall     (AR) @[ IoU=0.50:0.95 | area=   all | maxDets= 10 ] = 0.640\n",
      " Average Recall     (AR) @[ IoU=0.50:0.95 | area=   all | maxDets=100 ] = 0.640\n",
      " Average Recall     (AR) @[ IoU=0.50:0.95 | area= small | maxDets=100 ] = 0.645\n",
      " Average Recall     (AR) @[ IoU=0.50:0.95 | area=medium | maxDets=100 ] = 0.647\n",
      " Average Recall     (AR) @[ IoU=0.50:0.95 | area= large | maxDets=100 ] = 0.622\n"
     ]
    }
   ],
   "source": [
    "from pycocotools.coco import COCO\n",
    "from pycocotools.cocoeval import COCOeval\n",
    "\n",
    "with open(\"coco_results.json\", \"r\") as f:\n",
    "    results = json.load(f)\n",
    "coco = COCO(\"./mutated_ground_truths.json\")\n",
    "ret = {}\n",
    "\n",
    "cocoDt = coco.loadRes(results)\n",
    "cocoEval = COCOeval(coco, cocoDt, 'bbox')\n",
    "cocoEval.evaluate()\n",
    "cocoEval.accumulate()\n",
    "cocoEval.summarize()"
   ]
  },
  {
   "cell_type": "markdown",
   "metadata": {
    "id": "_8rKJCZFYwqE"
   },
   "source": [
    "# Creating y_true, y_pred"
   ]
  },
  {
   "cell_type": "code",
   "execution_count": 23,
   "metadata": {
    "colab": {
     "base_uri": "https://localhost:8080/"
    },
    "id": "b1M8QjMJYyXD",
    "outputId": "69187c86-1429-4764-a726-fa387a2acdf4"
   },
   "outputs": [
    {
     "name": "stdout",
     "output_type": "stream",
     "text": [
      "(10, 25, 5)\n"
     ]
    }
   ],
   "source": [
    "import numpy as np\n",
    "from collections import defaultdict\n",
    "\n",
    "num_imgs = len(img_ids)\n",
    "\n",
    "groups = defaultdict(list)\n",
    "\n",
    "for annotation in ground_truths[\"annotations\"]:\n",
    "    img_id = annotation[\"image_id\"]\n",
    "    bounding_box = annotation[\"bbox\"]\n",
    "    bounding_box = [x for x in bounding_box] + [int(annotation[\"category_id\"])]\n",
    "    groups[img_id].append(bounding_box)\n",
    "\n",
    "imgs = sorted(groups.keys())\n",
    "\n",
    "result = []\n",
    "for img in imgs:\n",
    "    bounding_boxes = groups[img]\n",
    "    bounding_boxes = np.array(bounding_boxes)\n",
    "    result.append(bounding_boxes)\n",
    "\n",
    "m = max([r.shape[0] for r in result])\n",
    "\n",
    "\n",
    "def to_shape(a, shape):\n",
    "    y_, x_ = shape\n",
    "    y, x = a.shape\n",
    "    y_pad = y_ - y\n",
    "    x_pad = x_ - x\n",
    "    return np.pad(a, ((0, y_pad), (0, x_pad)), mode=\"constant\", constant_values=-1)\n",
    "\n",
    "\n",
    "result = [to_shape(r, (m, 5)) for r in result]\n",
    "y_true = np.array(result).astype(float)\n",
    "\n",
    "print(y_true.shape)"
   ]
  },
  {
   "cell_type": "code",
   "execution_count": 24,
   "metadata": {
    "colab": {
     "base_uri": "https://localhost:8080/"
    },
    "id": "zt5ENbGKbi5e",
    "outputId": "1eda5c37-14ef-4d0c-92e0-47eeb624331b"
   },
   "outputs": [
    {
     "name": "stdout",
     "output_type": "stream",
     "text": [
      "[[[ 2.7210e+02  2.0023e+02  1.5197e+02  2.7977e+02  1.8000e+01]\n",
      "  [ 1.8123e+02  8.6280e+01  2.7440e+01  7.3530e+01  4.4000e+01]\n",
      "  [ 1.7474e+02  0.0000e+00  2.6104e+02  2.2079e+02  7.0000e+01]\n",
      "  ...\n",
      "  [-1.0000e+00 -1.0000e+00 -1.0000e+00 -1.0000e+00 -1.0000e+00]\n",
      "  [-1.0000e+00 -1.0000e+00 -1.0000e+00 -1.0000e+00 -1.0000e+00]\n",
      "  [-1.0000e+00 -1.0000e+00 -1.0000e+00 -1.0000e+00 -1.0000e+00]]\n",
      "\n",
      " [[ 1.9797e+02  1.1722e+02  1.7045e+02  2.2207e+02  1.8000e+01]\n",
      "  [ 5.8450e+01  8.1690e+01  1.3153e+02  1.2590e+02  6.4000e+01]\n",
      "  [ 9.2900e+00  1.6000e+02  4.6658e+02  3.1484e+02  3.0000e+00]\n",
      "  ...\n",
      "  [-1.0000e+00 -1.0000e+00 -1.0000e+00 -1.0000e+00 -1.0000e+00]\n",
      "  [-1.0000e+00 -1.0000e+00 -1.0000e+00 -1.0000e+00 -1.0000e+00]\n",
      "  [-1.0000e+00 -1.0000e+00 -1.0000e+00 -1.0000e+00 -1.0000e+00]]\n",
      "\n",
      " [[ 4.7307e+02  3.9593e+02  3.8650e+01  2.8670e+01  1.8000e+01]\n",
      "  [ 2.0401e+02  2.3508e+02  6.0840e+01  1.7736e+02  1.0000e+00]\n",
      "  [ 4.3000e-01  4.9979e+02  3.3979e+02  1.0645e+02  1.5000e+01]\n",
      "  ...\n",
      "  [-1.0000e+00 -1.0000e+00 -1.0000e+00 -1.0000e+00 -1.0000e+00]\n",
      "  [-1.0000e+00 -1.0000e+00 -1.0000e+00 -1.0000e+00 -1.0000e+00]\n",
      "  [-1.0000e+00 -1.0000e+00 -1.0000e+00 -1.0000e+00 -1.0000e+00]]\n",
      "\n",
      " ...\n",
      "\n",
      " [[ 1.1271e+02  1.5482e+02  3.6729e+02  4.7935e+02  1.8000e+01]\n",
      "  [-1.0000e+00 -1.0000e+00 -1.0000e+00 -1.0000e+00 -1.0000e+00]\n",
      "  [-1.0000e+00 -1.0000e+00 -1.0000e+00 -1.0000e+00 -1.0000e+00]\n",
      "  ...\n",
      "  [-1.0000e+00 -1.0000e+00 -1.0000e+00 -1.0000e+00 -1.0000e+00]\n",
      "  [-1.0000e+00 -1.0000e+00 -1.0000e+00 -1.0000e+00 -1.0000e+00]\n",
      "  [-1.0000e+00 -1.0000e+00 -1.0000e+00 -1.0000e+00 -1.0000e+00]]\n",
      "\n",
      " [[ 4.2758e+02  7.7870e+01  1.8888e+02  2.8591e+02  1.8000e+01]\n",
      "  [ 4.0399e+02  3.6290e+01  5.9210e+01  2.7506e+02  1.0000e+00]\n",
      "  [ 2.6073e+02  9.6000e-01  1.5376e+02  3.3522e+02  1.0000e+00]\n",
      "  ...\n",
      "  [-1.0000e+00 -1.0000e+00 -1.0000e+00 -1.0000e+00 -1.0000e+00]\n",
      "  [-1.0000e+00 -1.0000e+00 -1.0000e+00 -1.0000e+00 -1.0000e+00]\n",
      "  [-1.0000e+00 -1.0000e+00 -1.0000e+00 -1.0000e+00 -1.0000e+00]]\n",
      "\n",
      " [[ 2.0061e+02  8.9650e+01  4.0022e+02  2.5102e+02  1.8000e+01]\n",
      "  [ 9.4780e+01  9.5000e-01  2.4066e+02  2.1101e+02  1.0000e+00]\n",
      "  [-1.0000e+00 -1.0000e+00 -1.0000e+00 -1.0000e+00 -1.0000e+00]\n",
      "  ...\n",
      "  [-1.0000e+00 -1.0000e+00 -1.0000e+00 -1.0000e+00 -1.0000e+00]\n",
      "  [-1.0000e+00 -1.0000e+00 -1.0000e+00 -1.0000e+00 -1.0000e+00]\n",
      "  [-1.0000e+00 -1.0000e+00 -1.0000e+00 -1.0000e+00 -1.0000e+00]]]\n"
     ]
    }
   ],
   "source": [
    "print(y_true)"
   ]
  },
  {
   "cell_type": "code",
   "execution_count": 27,
   "metadata": {
    "colab": {
     "base_uri": "https://localhost:8080/"
    },
    "id": "R3o_ecJab2QC",
    "outputId": "7d2d4633-d5db-481f-d52c-f2bd3cec5b2c"
   },
   "outputs": [
    {
     "name": "stdout",
     "output_type": "stream",
     "text": [
      "(10, 25, 6)\n"
     ]
    }
   ],
   "source": [
    "import numpy as np\n",
    "from collections import defaultdict\n",
    "\n",
    "num_imgs = len(img_ids)\n",
    "\n",
    "groups = defaultdict(list)\n",
    "\n",
    "for annotation in results:\n",
    "    img_id = annotation[\"image_id\"]\n",
    "    bounding_box = annotation[\"bbox\"]\n",
    "    bounding_box = (\n",
    "        [x for x in bounding_box]\n",
    "        + [int(annotation[\"category_id\"])]\n",
    "        + [annotation[\"score\"]]\n",
    "    )\n",
    "    groups[img_id].append(bounding_box)\n",
    "\n",
    "imgs = sorted(groups.keys())\n",
    "\n",
    "result = []\n",
    "for img in imgs:\n",
    "    bounding_boxes = groups[img]\n",
    "    bounding_boxes = np.array(bounding_boxes)\n",
    "    result.append(bounding_boxes)\n",
    "\n",
    "m = max([r.shape[0] for r in result])\n",
    "\n",
    "\n",
    "def to_shape(a, shape):\n",
    "    y_, x_ = shape\n",
    "    y, x = a.shape\n",
    "    y_pad = y_ - y\n",
    "    x_pad = x_ - x\n",
    "    return np.pad(a, ((0, y_pad), (0, x_pad)), mode=\"constant\", constant_values=-1)\n",
    "\n",
    "\n",
    "result = [to_shape(r, (m, 6)) for r in result]\n",
    "y_pred = np.array(result)\n",
    "\n",
    "print(y_pred.shape)"
   ]
  },
  {
   "cell_type": "code",
   "execution_count": 28,
   "metadata": {
    "colab": {
     "base_uri": "https://localhost:8080/"
    },
    "id": "8JPT8ufgb93o",
    "outputId": "beb2ad3d-ce72-4c6f-e54f-0ccc3f1e091a"
   },
   "outputs": [
    {
     "name": "stdout",
     "output_type": "stream",
     "text": [
      "[[[285.60509123 203.24077151 157.62079746 256.54660497  18.\n",
      "     0.97930528]\n",
      "  [183.67146916  82.56794041  24.9620929   77.55130673  44.\n",
      "     0.95886374]\n",
      "  [156.04012011  15.31882045 269.30879043 210.06748721  70.\n",
      "     0.97869618]\n",
      "  ...\n",
      "  [ -1.          -1.          -1.          -1.          -1.\n",
      "    -1.        ]\n",
      "  [ -1.          -1.          -1.          -1.          -1.\n",
      "    -1.        ]\n",
      "  [ -1.          -1.          -1.          -1.          -1.\n",
      "    -1.        ]]\n",
      "\n",
      " [[206.84089692 100.10514571 182.44281364 238.52784662  18.\n",
      "     0.95176566]\n",
      "  [ 54.9847301   90.89049379 144.03222719 136.78531815  64.\n",
      "     0.96972617]\n",
      "  [ 22.21198152 150.94875521 512.42904336 299.42798416   3.\n",
      "     0.966054  ]\n",
      "  ...\n",
      "  [ -1.          -1.          -1.          -1.          -1.\n",
      "    -1.        ]\n",
      "  [ -1.          -1.          -1.          -1.          -1.\n",
      "    -1.        ]\n",
      "  [ -1.          -1.          -1.          -1.          -1.\n",
      "    -1.        ]]\n",
      "\n",
      " [[471.16839829 397.34736668  40.53109158  27.76181102  18.\n",
      "     0.9753393 ]\n",
      "  [205.1585873  220.30218602  64.24951741 190.8277256    1.\n",
      "     0.9844926 ]\n",
      "  [ 29.32253726 504.32805577 327.19174724 115.46402601  15.\n",
      "     0.96582865]\n",
      "  ...\n",
      "  [ -1.          -1.          -1.          -1.          -1.\n",
      "    -1.        ]\n",
      "  [ -1.          -1.          -1.          -1.          -1.\n",
      "    -1.        ]\n",
      "  [ -1.          -1.          -1.          -1.          -1.\n",
      "    -1.        ]]\n",
      "\n",
      " ...\n",
      "\n",
      " [[ 78.30172688 200.36688767 341.48459692 503.13102221  18.\n",
      "     0.95807709]\n",
      "  [ -1.          -1.          -1.          -1.          -1.\n",
      "    -1.        ]\n",
      "  [ -1.          -1.          -1.          -1.          -1.\n",
      "    -1.        ]\n",
      "  ...\n",
      "  [ -1.          -1.          -1.          -1.          -1.\n",
      "    -1.        ]\n",
      "  [ -1.          -1.          -1.          -1.          -1.\n",
      "    -1.        ]\n",
      "  [ -1.          -1.          -1.          -1.          -1.\n",
      "    -1.        ]]\n",
      "\n",
      " [[418.06128531  63.45674269 199.15884881 302.66236009  18.\n",
      "     0.99603187]\n",
      "  [401.84303392  41.71329957  59.38474616 249.22477632   1.\n",
      "     0.95436472]\n",
      "  [259.3351817   -2.6329689  155.09030962 352.22674948   1.\n",
      "     0.97688678]\n",
      "  ...\n",
      "  [ -1.          -1.          -1.          -1.          -1.\n",
      "    -1.        ]\n",
      "  [ -1.          -1.          -1.          -1.          -1.\n",
      "    -1.        ]\n",
      "  [ -1.          -1.          -1.          -1.          -1.\n",
      "    -1.        ]]\n",
      "\n",
      " [[182.16839734  66.65314652 421.62214422 259.25827758  18.\n",
      "     0.95327065]\n",
      "  [ 79.08461166 -15.36089912 249.64594589 230.49452889   1.\n",
      "     0.96227917]\n",
      "  [ -1.          -1.          -1.          -1.          -1.\n",
      "    -1.        ]\n",
      "  ...\n",
      "  [ -1.          -1.          -1.          -1.          -1.\n",
      "    -1.        ]\n",
      "  [ -1.          -1.          -1.          -1.          -1.\n",
      "    -1.        ]\n",
      "  [ -1.          -1.          -1.          -1.          -1.\n",
      "    -1.        ]]]\n"
     ]
    }
   ],
   "source": [
    "print(y_pred)"
   ]
  },
  {
   "cell_type": "code",
   "execution_count": 31,
   "metadata": {
    "id": "O9Sk_LOl2XsR"
   },
   "outputs": [],
   "source": [
    "outfile = \"high_density_confidence.npz\"\n",
    "np.savez(outfile, y_true, y_pred)"
   ]
  }
 ],
 "metadata": {
  "accelerator": "GPU",
  "colab": {
   "collapsed_sections": [],
   "name": "GenerateSamples.ipynb",
   "provenance": [],
   "toc_visible": true
  },
  "kernelspec": {
   "display_name": "Python 3 (ipykernel)",
   "language": "python",
   "name": "python3"
  },
  "language_info": {
   "codemirror_mode": {
    "name": "ipython",
    "version": 3
   },
   "file_extension": ".py",
   "mimetype": "text/x-python",
   "name": "python",
   "nbconvert_exporter": "python",
   "pygments_lexer": "ipython3",
   "version": "3.9.13"
  }
 },
 "nbformat": 4,
 "nbformat_minor": 1
}
